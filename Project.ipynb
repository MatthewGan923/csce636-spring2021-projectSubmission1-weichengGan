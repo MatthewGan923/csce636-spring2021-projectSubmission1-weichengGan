{
 "cells": [
  {
   "cell_type": "code",
   "execution_count": 1,
   "metadata": {},
   "outputs": [],
   "source": [
    "import numpy as np\n",
    "import pandas as pd\n",
    "import os\n",
    "import json\n",
    "import csv\n",
    "from keras import models\n",
    "from keras import metrics\n",
    "from keras import optimizers\n",
    "from keras import layers"
   ]
  },
  {
   "cell_type": "code",
   "execution_count": 2,
   "metadata": {},
   "outputs": [],
   "source": [
    "outputPath = \"./openpose/openpose/output\""
   ]
  },
  {
   "cell_type": "code",
   "execution_count": 3,
   "metadata": {},
   "outputs": [],
   "source": [
    "frameCounter = []\n",
    "\n",
    "totalData = []\n",
    "for path in os.listdir(outputPath):\n",
    "    fullPath = os.path.join(outputPath, path)    \n",
    "    Data = pd.read_json(fullPath) \n",
    "    pData = Data[\"people\"]\n",
    "    poseData = []\n",
    "    if len(pData) != 0:                    \n",
    "        poseData.append(pData[0][\"pose_keypoints_2d\"])\n",
    "        totalData+=poseData\n",
    "    else:\n",
    "        poseData = [0] * 75\n",
    "        totalData.append(poseData)\n",
    "    frameCounter.append(path.split('.')[0])      "
   ]
  },
  {
   "cell_type": "code",
   "execution_count": 4,
   "metadata": {},
   "outputs": [],
   "source": [
    "# now we normalize our data\n",
    "for data in totalData:\n",
    "    for i in range(0, 75, 3):\n",
    "        data[i] = float(data[i]) / 320\n",
    "        data[i + 1] = float(data[i + 1]) / 240\n"
   ]
  },
  {
   "cell_type": "code",
   "execution_count": 5,
   "metadata": {},
   "outputs": [],
   "source": [
    "totalLabel = pd.read_csv(\"urLabel.csv\", header=None)"
   ]
  },
  {
   "cell_type": "code",
   "execution_count": 6,
   "metadata": {},
   "outputs": [],
   "source": [
    "frameRecords = {}\n",
    "for name in frameCounter:\n",
    "    names = name.split(\"_\")\n",
    "    videoNumString = names[0][5:7]\n",
    "    videoNum = int(videoNumString)\n",
    "    if videoNum not in frameRecords:\n",
    "        frameRecords[videoNum] = []\n",
    "    frameRecords[videoNum].append(int(names[1]))"
   ]
  },
  {
   "cell_type": "code",
   "execution_count": 7,
   "metadata": {},
   "outputs": [],
   "source": [
    "for index, row in totalLabel.iterrows():\n",
    "    totalLabel.loc[index, 1] -= 1"
   ]
  },
  {
   "cell_type": "code",
   "execution_count": 8,
   "metadata": {},
   "outputs": [],
   "source": [
    "rowsToDrop = []\n",
    "for index, row in totalLabel.iterrows():\n",
    "    frameName = row[0]\n",
    "    videoNum = int(frameName.split(\"-\")[1])            \n",
    "    if int(row[1]) not in frameRecords[videoNum]:        \n",
    "        rowsToDrop.append(index)\n",
    "    else:\n",
    "        if row[2] == 0:\n",
    "            totalLabel.loc[index, 2] = 1\n",
    "            \n",
    "labelData = totalLabel.drop(totalLabel.index[rowsToDrop]).loc[:, [0, 1, 2]]"
   ]
  },
  {
   "cell_type": "code",
   "execution_count": 9,
   "metadata": {},
   "outputs": [
    {
     "data": {
      "text/html": [
       "<div>\n",
       "<style scoped>\n",
       "    .dataframe tbody tr th:only-of-type {\n",
       "        vertical-align: middle;\n",
       "    }\n",
       "\n",
       "    .dataframe tbody tr th {\n",
       "        vertical-align: top;\n",
       "    }\n",
       "\n",
       "    .dataframe thead th {\n",
       "        text-align: right;\n",
       "    }\n",
       "</style>\n",
       "<table border=\"1\" class=\"dataframe\">\n",
       "  <thead>\n",
       "    <tr style=\"text-align: right;\">\n",
       "      <th></th>\n",
       "      <th>0</th>\n",
       "      <th>1</th>\n",
       "      <th>2</th>\n",
       "    </tr>\n",
       "  </thead>\n",
       "  <tbody>\n",
       "    <tr>\n",
       "      <th>0</th>\n",
       "      <td>fall-01</td>\n",
       "      <td>0</td>\n",
       "      <td>-1</td>\n",
       "    </tr>\n",
       "    <tr>\n",
       "      <th>1</th>\n",
       "      <td>fall-01</td>\n",
       "      <td>1</td>\n",
       "      <td>-1</td>\n",
       "    </tr>\n",
       "    <tr>\n",
       "      <th>2</th>\n",
       "      <td>fall-01</td>\n",
       "      <td>2</td>\n",
       "      <td>-1</td>\n",
       "    </tr>\n",
       "    <tr>\n",
       "      <th>3</th>\n",
       "      <td>fall-01</td>\n",
       "      <td>3</td>\n",
       "      <td>-1</td>\n",
       "    </tr>\n",
       "    <tr>\n",
       "      <th>4</th>\n",
       "      <td>fall-01</td>\n",
       "      <td>4</td>\n",
       "      <td>-1</td>\n",
       "    </tr>\n",
       "    <tr>\n",
       "      <th>...</th>\n",
       "      <td>...</td>\n",
       "      <td>...</td>\n",
       "      <td>...</td>\n",
       "    </tr>\n",
       "    <tr>\n",
       "      <th>2978</th>\n",
       "      <td>fall-30</td>\n",
       "      <td>53</td>\n",
       "      <td>1</td>\n",
       "    </tr>\n",
       "    <tr>\n",
       "      <th>2979</th>\n",
       "      <td>fall-30</td>\n",
       "      <td>54</td>\n",
       "      <td>1</td>\n",
       "    </tr>\n",
       "    <tr>\n",
       "      <th>2980</th>\n",
       "      <td>fall-30</td>\n",
       "      <td>55</td>\n",
       "      <td>1</td>\n",
       "    </tr>\n",
       "    <tr>\n",
       "      <th>2981</th>\n",
       "      <td>fall-30</td>\n",
       "      <td>56</td>\n",
       "      <td>1</td>\n",
       "    </tr>\n",
       "    <tr>\n",
       "      <th>2982</th>\n",
       "      <td>fall-30</td>\n",
       "      <td>57</td>\n",
       "      <td>1</td>\n",
       "    </tr>\n",
       "  </tbody>\n",
       "</table>\n",
       "<p>2635 rows × 3 columns</p>\n",
       "</div>"
      ],
      "text/plain": [
       "            0   1  2\n",
       "0     fall-01   0 -1\n",
       "1     fall-01   1 -1\n",
       "2     fall-01   2 -1\n",
       "3     fall-01   3 -1\n",
       "4     fall-01   4 -1\n",
       "...       ...  .. ..\n",
       "2978  fall-30  53  1\n",
       "2979  fall-30  54  1\n",
       "2980  fall-30  55  1\n",
       "2981  fall-30  56  1\n",
       "2982  fall-30  57  1\n",
       "\n",
       "[2635 rows x 3 columns]"
      ]
     },
     "execution_count": 9,
     "metadata": {},
     "output_type": "execute_result"
    }
   ],
   "source": [
    "labelData"
   ]
  },
  {
   "cell_type": "code",
   "execution_count": 10,
   "metadata": {},
   "outputs": [],
   "source": [
    "totalLabel = []\n",
    "for index, row in labelData.iterrows():\n",
    "    totalLabel.append(int(row[2]))"
   ]
  },
  {
   "cell_type": "code",
   "execution_count": 11,
   "metadata": {},
   "outputs": [
    {
     "name": "stdout",
     "output_type": "stream",
     "text": [
      "2635\n",
      "75\n",
      "2635\n"
     ]
    }
   ],
   "source": [
    "print(len(totalData))\n",
    "print(len(totalData[0]))\n",
    "print(len(totalLabel))"
   ]
  },
  {
   "cell_type": "code",
   "execution_count": 13,
   "metadata": {},
   "outputs": [
    {
     "name": "stdout",
     "output_type": "stream",
     "text": [
      "2343\n",
      "292\n",
      "2343\n",
      "292\n",
      "[0.533309375, 0.4025575, 0.879093, 0.5293281249999999, 0.4404833333333333, 0.9045700000000001, 0.49879687500000003, 0.44305, 0.87509, 0.49462812500000003, 0.49465, 0.810735, 0.490703125, 0.5514291666666666, 0.836796, 0.561775, 0.440375, 0.8620249999999999, 0.575940625, 0.494625, 0.8291200000000001, 0.578015625, 0.5540416666666667, 0.8607469999999999, 0.53134375, 0.5542458333333333, 0.784472, 0.513053125, 0.5568458333333334, 0.803654, 0.52310625, 0.6623375, 0.786293, 0.529190625, 0.7516333333333333, 0.8044789999999999, 0.5536187499999999, 0.5542125, 0.772852, 0.54559375, 0.6596208333333333, 0.838287, 0.54755625, 0.7543375, 0.7958149999999999, 0.52730625, 0.39709500000000003, 0.888408, 0.5414375, 0.3970829166666666, 0.855993, 0.515028125, 0.39177791666666667, 0.788401, 0.54553125, 0.39450833333333335, 0.519791, 0.5535875, 0.7814208333333333, 0.7348669999999999, 0.5617125, 0.7733666666666666, 0.808962, 0.5455125, 0.7678166666666667, 0.619064, 0.52925, 0.7733541666666667, 0.709147, 0.519090625, 0.7706791666666667, 0.691669, 0.529290625, 0.7651791666666666, 0.605179]\n",
      "-1\n"
     ]
    }
   ],
   "source": [
    "np.random.shuffle(totalData)\n",
    "# now we split the data\n",
    "test_data = totalData[:len(totalData) // 9]\n",
    "train_data = totalData[len(totalData) // 9:]\n",
    "test_label = totalLabel[:len(totalData) // 9]\n",
    "train_label = totalLabel[len(totalData) // 9:]\n",
    "print(len(train_data))\n",
    "print(len(test_data))\n",
    "print(len(train_label))\n",
    "print(len(test_label))\n",
    "print(train_data[0])\n",
    "print(train_label[0])"
   ]
  },
  {
   "cell_type": "code",
   "execution_count": 28,
   "metadata": {},
   "outputs": [
    {
     "name": "stdout",
     "output_type": "stream",
     "text": [
      "Model: \"sequential_6\"\n",
      "_________________________________________________________________\n",
      "Layer (type)                 Output Shape              Param #   \n",
      "=================================================================\n",
      "conv2d_12 (Conv2D)           (None, 3, 25, 128)        1280      \n",
      "_________________________________________________________________\n",
      "batch_normalization_10 (Batc (None, 3, 25, 128)        12        \n",
      "_________________________________________________________________\n",
      "conv2d_13 (Conv2D)           (None, 3, 25, 128)        147584    \n",
      "_________________________________________________________________\n",
      "batch_normalization_11 (Batc (None, 3, 25, 128)        12        \n",
      "_________________________________________________________________\n",
      "max_pooling2d_5 (MaxPooling2 (None, 1, 12, 128)        0         \n",
      "_________________________________________________________________\n",
      "flatten_5 (Flatten)          (None, 1536)              0         \n",
      "_________________________________________________________________\n",
      "dense_10 (Dense)             (None, 512)               786944    \n",
      "_________________________________________________________________\n",
      "dense_11 (Dense)             (None, 1)                 513       \n",
      "=================================================================\n",
      "Total params: 936,345\n",
      "Trainable params: 936,333\n",
      "Non-trainable params: 12\n",
      "_________________________________________________________________\n"
     ]
    }
   ],
   "source": [
    "model = models.Sequential()\n",
    "model.add(layers.Conv2D(128,(3,3), padding='same', activation='relu', input_shape=(3, 25, 1)))\n",
    "model.add(layers.BatchNormalization(1))\n",
    "model.add(layers.Conv2D(128, (3,3), padding='same', activation='relu'))\n",
    "model.add(layers.BatchNormalization(1))\n",
    "model.add(layers.MaxPooling2D(2,2))\n",
    "model.add(layers.Flatten())\n",
    "model.add(layers.Dense(512, activation='relu'))\n",
    "model.add(layers.Dense(1, activation='sigmoid'))\n",
    "model.compile(loss='binary_crossentropy', \n",
    "                  optimizer=optimizers.RMSprop(lr=1e-4), \n",
    "                  metrics=['acc'])\n",
    "model.summary()"
   ]
  },
  {
   "cell_type": "code",
   "execution_count": 20,
   "metadata": {},
   "outputs": [],
   "source": [
    "# we will start with CNN model with 10-fold\n",
    "def build_model():\n",
    "    model = models.Sequential()\n",
    "    model.add(layers.Conv2D(128,(3,3), padding='same', activation='relu', input_shape=(3, 25, 1)))\n",
    "    model.add(layers.BatchNormalization(1))\n",
    "    model.add(layers.Conv2D(128, (3,3), padding='same', activation='relu'))\n",
    "    model.add(layers.BatchNormalization(1))\n",
    "    model.add(layers.MaxPooling2D(2,2))\n",
    "    model.add(layers.Flatten())\n",
    "    model.add(layers.Dense(512, activation='relu'))\n",
    "    model.add(layers.Dense(1, activation='sigmoid'))\n",
    "    model.compile(loss='binary_crossentropy', \n",
    "                  optimizer=optimizers.RMSprop(lr=1e-4), \n",
    "                  metrics=['acc'])\n",
    "    return model"
   ]
  },
  {
   "cell_type": "code",
   "execution_count": 15,
   "metadata": {},
   "outputs": [
    {
     "data": {
      "text/plain": [
       "(2343, 3, 25, 1)"
      ]
     },
     "execution_count": 15,
     "metadata": {},
     "output_type": "execute_result"
    }
   ],
   "source": [
    "data_train_array = np.array(train_data)\n",
    "label_train_array = np.array(train_label)\n",
    "data_train_array = data_train_array.reshape((len(data_train_array), \n",
    "                                             3, \n",
    "                                             int(len(data_train_array[0])/3), \n",
    "                                             1))\n",
    "data_train_array.shape"
   ]
  },
  {
   "cell_type": "code",
   "execution_count": 24,
   "metadata": {},
   "outputs": [
    {
     "name": "stdout",
     "output_type": "stream",
     "text": [
      "Epoch 1/50\n",
      "235/235 [==============================] - 5s 18ms/step - loss: 0.6281 - acc: 0.0477 - val_loss: 0.5690 - val_acc: 0.0171\n",
      "Epoch 2/50\n",
      "235/235 [==============================] - 2s 8ms/step - loss: 0.4838 - acc: 0.0246 - val_loss: 0.4243 - val_acc: 0.0000e+00\n",
      "Epoch 3/50\n",
      "235/235 [==============================] - 2s 7ms/step - loss: 0.4947 - acc: 0.0205 - val_loss: 0.3406 - val_acc: 0.0000e+00\n",
      "Epoch 4/50\n",
      "235/235 [==============================] - 2s 7ms/step - loss: 0.4084 - acc: 0.0095 - val_loss: 0.3600 - val_acc: 0.0000e+00\n",
      "Epoch 5/50\n",
      "235/235 [==============================] - 2s 7ms/step - loss: 0.2961 - acc: 0.0287 - val_loss: 0.7342 - val_acc: 0.2388\n",
      "Epoch 6/50\n",
      "235/235 [==============================] - 2s 7ms/step - loss: 0.2979 - acc: 0.0520 - val_loss: 0.3988 - val_acc: 0.0085\n",
      "Epoch 7/50\n",
      "235/235 [==============================] - 2s 7ms/step - loss: 0.1312 - acc: 0.0429 - val_loss: 0.4245 - val_acc: 0.0043\n",
      "Epoch 8/50\n",
      "235/235 [==============================] - 2s 7ms/step - loss: 0.0690 - acc: 0.0345 - val_loss: 0.6691 - val_acc: 0.1898\n",
      "Epoch 9/50\n",
      "235/235 [==============================] - 2s 7ms/step - loss: 0.1354 - acc: 0.0789 - val_loss: 0.7090 - val_acc: 0.0469\n",
      "Epoch 10/50\n",
      "235/235 [==============================] - 2s 7ms/step - loss: -0.3797 - acc: 0.0703 - val_loss: 0.7458 - val_acc: 0.0448\n",
      "Epoch 11/50\n",
      "235/235 [==============================] - 2s 7ms/step - loss: -0.2915 - acc: 0.0916 - val_loss: 1.0886 - val_acc: 0.1706\n",
      "Epoch 12/50\n",
      "235/235 [==============================] - 2s 7ms/step - loss: -0.4112 - acc: 0.0685 - val_loss: 1.1997 - val_acc: 0.0981\n",
      "Epoch 13/50\n",
      "235/235 [==============================] - 2s 7ms/step - loss: -0.5015 - acc: 0.0926 - val_loss: 1.2128 - val_acc: 0.0448\n",
      "Epoch 14/50\n",
      "235/235 [==============================] - 2s 6ms/step - loss: -0.6532 - acc: 0.0893 - val_loss: 1.4901 - val_acc: 0.1151\n",
      "Epoch 15/50\n",
      "235/235 [==============================] - 2s 7ms/step - loss: -2.5161 - acc: 0.0653 - val_loss: 1.9487 - val_acc: 0.0469\n",
      "Epoch 16/50\n",
      "235/235 [==============================] - 2s 7ms/step - loss: -2.9043 - acc: 0.0800 - val_loss: 2.1744 - val_acc: 0.1130\n",
      "Epoch 17/50\n",
      "235/235 [==============================] - 2s 7ms/step - loss: -2.5094 - acc: 0.0946 - val_loss: 2.1919 - val_acc: 0.0299\n",
      "Epoch 18/50\n",
      "235/235 [==============================] - 2s 7ms/step - loss: -3.9103 - acc: 0.0645 - val_loss: 2.3262 - val_acc: 0.0896\n",
      "Epoch 19/50\n",
      "235/235 [==============================] - 2s 7ms/step - loss: -4.7402 - acc: 0.1085 - val_loss: 2.4781 - val_acc: 0.0341\n",
      "Epoch 20/50\n",
      "235/235 [==============================] - 2s 7ms/step - loss: -4.8825 - acc: 0.0738 - val_loss: 3.0160 - val_acc: 0.0512\n",
      "Epoch 21/50\n",
      "235/235 [==============================] - 2s 7ms/step - loss: -9.3119 - acc: 0.0854 - val_loss: 2.7545 - val_acc: 0.0384\n",
      "Epoch 22/50\n",
      "235/235 [==============================] - 2s 7ms/step - loss: -5.2199 - acc: 0.0883 - val_loss: 3.7286 - val_acc: 0.0256\n",
      "Epoch 23/50\n",
      "235/235 [==============================] - 2s 7ms/step - loss: -5.7038 - acc: 0.0830 - val_loss: 4.2015 - val_acc: 0.0618\n",
      "Epoch 24/50\n",
      "235/235 [==============================] - 2s 7ms/step - loss: -11.6409 - acc: 0.0732 - val_loss: 4.0856 - val_acc: 0.0469\n",
      "Epoch 25/50\n",
      "235/235 [==============================] - 1s 6ms/step - loss: -15.3371 - acc: 0.0934 - val_loss: 4.8431 - val_acc: 0.1002\n",
      "Epoch 26/50\n",
      "235/235 [==============================] - 2s 6ms/step - loss: -12.0053 - acc: 0.0949 - val_loss: 5.4807 - val_acc: 0.1343\n",
      "Epoch 27/50\n",
      "235/235 [==============================] - 2s 7ms/step - loss: -13.0319 - acc: 0.1101 - val_loss: 5.8610 - val_acc: 0.0362\n",
      "Epoch 28/50\n",
      "235/235 [==============================] - 2s 7ms/step - loss: -17.4613 - acc: 0.0986 - val_loss: 5.4749 - val_acc: 0.0405\n",
      "Epoch 29/50\n",
      "235/235 [==============================] - 2s 7ms/step - loss: -23.3355 - acc: 0.0848 - val_loss: 8.0570 - val_acc: 0.0256\n",
      "Epoch 30/50\n",
      "235/235 [==============================] - 2s 7ms/step - loss: -22.4987 - acc: 0.0833 - val_loss: 5.9925 - val_acc: 0.1237\n",
      "Epoch 31/50\n",
      "235/235 [==============================] - 2s 7ms/step - loss: -18.2104 - acc: 0.1189 - val_loss: 6.3928 - val_acc: 0.0235\n",
      "Epoch 32/50\n",
      "235/235 [==============================] - 2s 6ms/step - loss: -27.1922 - acc: 0.0709 - val_loss: 8.6506 - val_acc: 0.1066\n",
      "Epoch 33/50\n",
      "235/235 [==============================] - 2s 6ms/step - loss: -23.2091 - acc: 0.1113 - val_loss: 6.0588 - val_acc: 0.0362\n",
      "Epoch 34/50\n",
      "235/235 [==============================] - 2s 6ms/step - loss: -15.3789 - acc: 0.0863 - val_loss: 9.2938 - val_acc: 0.0789\n",
      "Epoch 35/50\n",
      "235/235 [==============================] - 2s 7ms/step - loss: -35.0720 - acc: 0.1050 - val_loss: 9.6006 - val_acc: 0.1023\n",
      "Epoch 36/50\n",
      "235/235 [==============================] - 2s 7ms/step - loss: -42.8494 - acc: 0.1129 - val_loss: 7.4516 - val_acc: 0.0448\n",
      "Epoch 37/50\n",
      "235/235 [==============================] - 2s 7ms/step - loss: -32.2774 - acc: 0.1153 - val_loss: 10.8271 - val_acc: 0.0192\n",
      "Epoch 38/50\n",
      "235/235 [==============================] - 2s 7ms/step - loss: -24.6534 - acc: 0.0835 - val_loss: 10.6251 - val_acc: 0.0490\n",
      "Epoch 39/50\n",
      "235/235 [==============================] - 2s 7ms/step - loss: -45.0846 - acc: 0.1000 - val_loss: 8.9016 - val_acc: 0.0299\n",
      "Epoch 40/50\n",
      "235/235 [==============================] - 2s 6ms/step - loss: -38.8500 - acc: 0.0957 - val_loss: 13.7153 - val_acc: 0.0448\n",
      "Epoch 41/50\n",
      "235/235 [==============================] - 1s 6ms/step - loss: -48.2965 - acc: 0.0943 - val_loss: 11.1441 - val_acc: 0.0746\n",
      "Epoch 42/50\n",
      "235/235 [==============================] - 1s 6ms/step - loss: -68.4752 - acc: 0.1099 - val_loss: 14.9067 - val_acc: 0.0426\n",
      "Epoch 43/50\n",
      "235/235 [==============================] - 2s 6ms/step - loss: -58.9781 - acc: 0.1057 - val_loss: 15.0743 - val_acc: 0.0661\n",
      "Epoch 44/50\n",
      "235/235 [==============================] - 1s 6ms/step - loss: -42.0036 - acc: 0.1168 - val_loss: 17.3499 - val_acc: 0.0618\n",
      "Epoch 45/50\n",
      "235/235 [==============================] - 1s 6ms/step - loss: -70.6487 - acc: 0.0924 - val_loss: 19.5478 - val_acc: 0.0640\n",
      "Epoch 46/50\n",
      "235/235 [==============================] - 2s 6ms/step - loss: -82.2683 - acc: 0.1128 - val_loss: 19.4349 - val_acc: 0.0213\n",
      "Epoch 47/50\n",
      "235/235 [==============================] - 2s 6ms/step - loss: -111.9731 - acc: 0.0935 - val_loss: 15.0838 - val_acc: 0.0426\n",
      "Epoch 48/50\n",
      "235/235 [==============================] - 1s 6ms/step - loss: -89.9130 - acc: 0.0816 - val_loss: 22.8397 - val_acc: 0.1023\n",
      "Epoch 49/50\n",
      "235/235 [==============================] - 2s 6ms/step - loss: -122.4511 - acc: 0.1277 - val_loss: 17.5868 - val_acc: 0.0533\n",
      "Epoch 50/50\n",
      "235/235 [==============================] - 2s 7ms/step - loss: -117.8541 - acc: 0.0922 - val_loss: 23.4046 - val_acc: 0.0299\n"
     ]
    }
   ],
   "source": [
    "model = build_model()\n",
    "history = model.fit(data_train_array, label_train_array, epochs=50, batch_size=8, \n",
    "         validation_split=0.2)"
   ]
  },
  {
   "cell_type": "code",
   "execution_count": 27,
   "metadata": {},
   "outputs": [
    {
     "data": {
      "image/png": "[encoded data removed]",
      "text/plain": [
       "<Figure size 432x288 with 1 Axes>"
      ]
     },
     "metadata": {
      "needs_background": "light"
     },
     "output_type": "display_data"
    },
    {
     "data": {
      "image/png": "[encoded data removed]",
      "text/plain": [
       "<Figure size 432x288 with 1 Axes>"
      ]
     },
     "metadata": {
      "needs_background": "light"
     },
     "output_type": "display_data"
    }
   ],
   "source": [
    "import matplotlib.pyplot as plt\n",
    "epochs = range(1, len(history.history['loss']) + 1)\n",
    "plt.plot(epochs, history.history['loss'], label = 'train')\n",
    "plt.plot(epochs, history.history['val_loss'], label = 'train')\n",
    "plt.xlabel(\"Epoch\")\n",
    "plt.ylabel(\"loss\")\n",
    "plt.legend()\n",
    "plt.show()\n",
    "\n",
    "plt.figure()\n",
    "plt.plot(history.history['acc'], label=\"train\")\n",
    "plt.plot(history.history['val_acc'], label=\"test\")\n",
    "plt.xlabel(\"Epoch\")\n",
    "plt.ylabel(\"Acc\")\n",
    "plt.title(\"CNN Training Accuracy\")\n",
    "plt.legend()\n",
    "plt.show()"
   ]
  },
  {
   "cell_type": "code",
   "execution_count": null,
   "metadata": {},
   "outputs": [],
   "source": []
  }
 ],
 "metadata": {
  "kernelspec": {
   "display_name": "Python 3",
   "language": "python",
   "name": "python3"
  },
  "language_info": {
   "codemirror_mode": {
    "name": "ipython",
    "version": 3
   },
   "file_extension": ".py",
   "mimetype": "text/x-python",
   "name": "python",
   "nbconvert_exporter": "python",
   "pygments_lexer": "ipython3",
   "version": "3.8.5"
  }
 },
 "nbformat": 4,
 "nbformat_minor": 4
}
